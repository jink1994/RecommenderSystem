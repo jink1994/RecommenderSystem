{
 "cells": [
  {
   "cell_type": "code",
   "execution_count": 1,
   "metadata": {},
   "outputs": [
    {
     "name": "stdout",
     "output_type": "stream",
     "text": [
      "Number of users = 943 | Number of movies = 1680\n"
     ]
    }
   ],
   "source": [
    "import numpy as np\n",
    "import pandas as pd\n",
    "import scipy.sparse as sp\n",
    "\n",
    "# 读入文件\n",
    "df_train = pd.read_csv('ua.base', sep='\\t')\n",
    "df_test = pd.read_csv('ua.test', sep='\\t')\n",
    "\n",
    "n_users = df_train.uid.unique().shape[0]\n",
    "n_items = df_train.mid.unique().shape[0]\n",
    "print('Number of users = %d | Number of movies = %d' % (n_users, n_items))"
   ]
  },
  {
   "cell_type": "code",
   "execution_count": 21,
   "metadata": {},
   "outputs": [
    {
     "name": "stderr",
     "output_type": "stream",
     "text": [
      "c:\\users\\jingc\\anaconda3\\envs\\pythonproject1\\lib\\site-packages\\ipykernel_launcher.py:10: RuntimeWarning: invalid value encountered in longlong_scalars\n",
      "  # Remove the CWD from sys.path while we load stuff.\n"
     ]
    }
   ],
   "source": [
    "# 使用三元组(ratings, (uid, mid))初始化一个稀疏矩阵\n",
    "base_data_matrix = sp.coo_matrix((df_train.rating.values, (df_train.uid.values, df_train.mid.values))).toarray()\n",
    "test_data_matrix = sp.coo_matrix((df_test.rating.values, (df_test.uid.values, df_test.mid.values))).toarray()\n",
    "\n",
    "pred_mat = np.zeros_like(test_data_matrix)\n",
    "\n",
    "# 计算每一位用户的评分均值vector\n",
    "average = []\n",
    "for k in range(n_users+1):\n",
    "    a= base_data_matrix[k]\n",
    "    average.append(np.sum(a)/len((np.nonzero(a)[0])))"
   ]
  },
  {
   "cell_type": "code",
   "execution_count": 22,
   "metadata": {},
   "outputs": [],
   "source": [
    "average = np.array(average)"
   ]
  },
  {
   "cell_type": "code",
   "execution_count": 24,
   "metadata": {},
   "outputs": [
    {
     "name": "stdout",
     "output_type": "stream",
     "text": [
      "User-based CF MAE: 0.860233\n"
     ]
    }
   ],
   "source": [
    "\n",
    "#使用波动+均值来提高了baseline模型\n",
    "eps = np.finfo(float).eps\n",
    "for i in range(n_users):\n",
    "    ln = base_data_matrix[i]\n",
    "    tn = test_data_matrix[i]\n",
    "    # Jaccard相似度，分母加上eps，避免除以0\n",
    "    jaccard = np.sum(np.logical_and(ln, base_data_matrix), axis=1) / (\n",
    "                np.sum(np.logical_or(ln, base_data_matrix), axis=1) + eps)\n",
    "    nz = np.nonzero(tn)[0]  # 找出要所有预测的items的id\n",
    "    for j in nz:\n",
    "        ref_ratings = base_data_matrix[:, j]  # 找出所有对item j所有的ratings\n",
    "        ref_users = np.nonzero(ref_ratings)  # 找出对应的user\n",
    "        jc_ref = jaccard[ref_users]  # 找出对应的similarities\n",
    "        avgrating_u = np.sum(ln)/len((np.nonzero(ln)[0]))#计算被预测用户的评分均值\n",
    "        diff_v = ref_ratings[ref_users]-average[ref_users]#对应user的评分减去 对应user的评分均值\n",
    "        pred_rating = avgrating_u + np.sum(jc_ref *diff_v)/(np.sum(jc_ref) + eps)\n",
    "        pred_mat[i, j] = pred_rating\n",
    "\n",
    "# 计算MAE\n",
    "N = np.count_nonzero(test_data_matrix)\n",
    "MAE = np.sum(np.abs(pred_mat - test_data_matrix)) / N\n",
    "print('User-based CF MAE: %g' % MAE)"
   ]
  },
  {
   "cell_type": "markdown",
   "metadata": {},
   "source": [
    "## 相比原来的0.94提升了8.5%"
   ]
  }
 ],
 "metadata": {
  "kernelspec": {
   "display_name": "Python 3",
   "language": "python",
   "name": "python3"
  },
  "language_info": {
   "codemirror_mode": {
    "name": "ipython",
    "version": 3
   },
   "file_extension": ".py",
   "mimetype": "text/x-python",
   "name": "python",
   "nbconvert_exporter": "python",
   "pygments_lexer": "ipython3",
   "version": "3.7.9"
  }
 },
 "nbformat": 4,
 "nbformat_minor": 4
}
